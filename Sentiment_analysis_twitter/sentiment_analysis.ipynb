{
 "cells": [
  {
   "cell_type": "code",
   "execution_count": null,
   "metadata": {},
   "outputs": [],
   "source": [
    "#pip install tweepy textblob matplotlib wordcloud googletrans unidecode"
   ]
  },
  {
   "cell_type": "code",
   "execution_count": 37,
   "metadata": {},
   "outputs": [],
   "source": [
    "import tweepy\n",
    "from textblob import TextBlob\n",
    "from wordcloud import WordCloud\n",
    "import pandas as pd\n",
    "import numpy as np\n",
    "import re\n",
    "import matplotlib.pyplot as plt\n",
    "plt.style.use('fivethirtyeight')\n",
    "from googletrans import Translator\n",
    "from unidecode import unidecode\n",
    "import seaborn as sns\n",
    "import credenciais_twitter as crd#importando as credenciais de outro arquivo"
   ]
  },
  {
   "cell_type": "code",
   "execution_count": 38,
   "metadata": {},
   "outputs": [],
   "source": [
    "##login"
   ]
  },
  {
   "cell_type": "code",
   "execution_count": 39,
   "metadata": {},
   "outputs": [],
   "source": [
    "consumerKey = crd.consumerKey\n",
    "consumerSecret = crd.consumerSecret\n",
    "accessToken = crd.accessToken\n",
    "accessTokenSecret = crd.accessTokenSecret"
   ]
  },
  {
   "cell_type": "code",
   "execution_count": 40,
   "metadata": {},
   "outputs": [],
   "source": [
    "#Criando nossa autenticação\n",
    "auth = tweepy.OAuthHandler(consumerKey,consumerSecret)\n",
    "#\"Direcionando\" o token de acesso\n",
    "auth.set_access_token(accessToken, accessTokenSecret) \n",
    "#criando o objeto da API usando nossas credenciais\n",
    "api = tweepy.API(auth, wait_on_rate_limit = True)"
   ]
  },
  {
   "cell_type": "code",
   "execution_count": 56,
   "metadata": {},
   "outputs": [],
   "source": [
    "name_id = 'billgates'\n",
    "language = 'en'"
   ]
  },
  {
   "cell_type": "code",
   "execution_count": 57,
   "metadata": {},
   "outputs": [],
   "source": [
    "# Fazendo um scrapping dos ultimos 100 tweets\n",
    "posts = api.user_timeline(screen_name=name_id,\n",
    "                          count = 100,\n",
    "                          lang =language,\n",
    "                          tweet_mode=\"extended\")\n"
   ]
  },
  {
   "cell_type": "code",
   "execution_count": 58,
   "metadata": {},
   "outputs": [
    {
     "data": {
      "text/html": [
       "<div>\n",
       "<style scoped>\n",
       "    .dataframe tbody tr th:only-of-type {\n",
       "        vertical-align: middle;\n",
       "    }\n",
       "\n",
       "    .dataframe tbody tr th {\n",
       "        vertical-align: top;\n",
       "    }\n",
       "\n",
       "    .dataframe thead th {\n",
       "        text-align: right;\n",
       "    }\n",
       "</style>\n",
       "<table border=\"1\" class=\"dataframe\">\n",
       "  <thead>\n",
       "    <tr style=\"text-align: right;\">\n",
       "      <th></th>\n",
       "      <th>Tweets</th>\n",
       "    </tr>\n",
       "  </thead>\n",
       "  <tbody>\n",
       "    <tr>\n",
       "      <th>0</th>\n",
       "      <td>If we learn the lessons of COVID-19, we can ap...</td>\n",
       "    </tr>\n",
       "    <tr>\n",
       "      <th>1</th>\n",
       "      <td>In his final words, John Lewis challenges all ...</td>\n",
       "    </tr>\n",
       "    <tr>\n",
       "      <th>2</th>\n",
       "      <td>The impacts of COVID-19 are driving worrying i...</td>\n",
       "    </tr>\n",
       "    <tr>\n",
       "      <th>3</th>\n",
       "      <td>RT @trevormundel: The @WorldBank’s support of ...</td>\n",
       "    </tr>\n",
       "    <tr>\n",
       "      <th>4</th>\n",
       "      <td>In these challenging times, we can’t lose sigh...</td>\n",
       "    </tr>\n",
       "  </tbody>\n",
       "</table>\n",
       "</div>"
      ],
      "text/plain": [
       "                                              Tweets\n",
       "0  If we learn the lessons of COVID-19, we can ap...\n",
       "1  In his final words, John Lewis challenges all ...\n",
       "2  The impacts of COVID-19 are driving worrying i...\n",
       "3  RT @trevormundel: The @WorldBank’s support of ...\n",
       "4  In these challenging times, we can’t lose sigh..."
      ]
     },
     "execution_count": 58,
     "metadata": {},
     "output_type": "execute_result"
    }
   ],
   "source": [
    "#Criando uma lista (usando list comprehension) para inserirmos num DataFrame\n",
    "df_tweets=pd.DataFrame([tweet.full_text for tweet in posts], columns=['Tweets'])\n",
    "df_tweets.head()"
   ]
  },
  {
   "cell_type": "code",
   "execution_count": 59,
   "metadata": {},
   "outputs": [],
   "source": [
    "def limpando_chars(text):\n",
    "    text = re.sub('@[A-Za-z0–9]+', '', text) #removendo @\n",
    "    text = re.sub('#', '', text) #removendo #\n",
    "    text = re.sub('RT[\\s]+', '', text) # Removendo RT\n",
    "    text = re.sub('https?:\\/\\/\\S+', '', text) # Removendo hyperlink\n",
    "    text = re.sub('&amp','', text)# removendo marcação HTML de início\n",
    "    return text"
   ]
  },
  {
   "cell_type": "code",
   "execution_count": 60,
   "metadata": {},
   "outputs": [],
   "source": [
    "#limpando os tweets com a função criada\n",
    "df_tweets['Tweets'] = df_tweets['Tweets'].apply(limpando_chars)"
   ]
  },
  {
   "cell_type": "code",
   "execution_count": 61,
   "metadata": {},
   "outputs": [
    {
     "data": {
      "text/html": [
       "<div>\n",
       "<style scoped>\n",
       "    .dataframe tbody tr th:only-of-type {\n",
       "        vertical-align: middle;\n",
       "    }\n",
       "\n",
       "    .dataframe tbody tr th {\n",
       "        vertical-align: top;\n",
       "    }\n",
       "\n",
       "    .dataframe thead th {\n",
       "        text-align: right;\n",
       "    }\n",
       "</style>\n",
       "<table border=\"1\" class=\"dataframe\">\n",
       "  <thead>\n",
       "    <tr style=\"text-align: right;\">\n",
       "      <th></th>\n",
       "      <th>Tweets</th>\n",
       "      <th>Subjetividade</th>\n",
       "      <th>Polaridade</th>\n",
       "    </tr>\n",
       "  </thead>\n",
       "  <tbody>\n",
       "    <tr>\n",
       "      <th>95</th>\n",
       "      <td>In our new annual letter,  and I write about w...</td>\n",
       "      <td>0.128788</td>\n",
       "      <td>0.304293</td>\n",
       "    </tr>\n",
       "    <tr>\n",
       "      <th>96</th>\n",
       "      <td>: The world must work together to slow the cor...</td>\n",
       "      <td>-0.100000</td>\n",
       "      <td>0.466667</td>\n",
       "    </tr>\n",
       "    <tr>\n",
       "      <th>97</th>\n",
       "      <td>Roger’s foundation partners with local NGOs...</td>\n",
       "      <td>0.225000</td>\n",
       "      <td>0.279167</td>\n",
       "    </tr>\n",
       "    <tr>\n",
       "      <th>98</th>\n",
       "      <td>I’m excited to team up with  again for the Mat...</td>\n",
       "      <td>0.375000</td>\n",
       "      <td>0.750000</td>\n",
       "    </tr>\n",
       "    <tr>\n",
       "      <th>99</th>\n",
       "      <td>As we conclude our foundation’s second decade ...</td>\n",
       "      <td>0.166667</td>\n",
       "      <td>0.166667</td>\n",
       "    </tr>\n",
       "  </tbody>\n",
       "</table>\n",
       "</div>"
      ],
      "text/plain": [
       "                                               Tweets  Subjetividade  \\\n",
       "95  In our new annual letter,  and I write about w...       0.128788   \n",
       "96  : The world must work together to slow the cor...      -0.100000   \n",
       "97     Roger’s foundation partners with local NGOs...       0.225000   \n",
       "98  I’m excited to team up with  again for the Mat...       0.375000   \n",
       "99  As we conclude our foundation’s second decade ...       0.166667   \n",
       "\n",
       "    Polaridade  \n",
       "95    0.304293  \n",
       "96    0.466667  \n",
       "97    0.279167  \n",
       "98    0.750000  \n",
       "99    0.166667  "
      ]
     },
     "execution_count": 61,
     "metadata": {},
     "output_type": "execute_result"
    }
   ],
   "source": [
    "# Função que analisa e obtém a subjetividade\n",
    "def capture_subjetividade_pt(text):\n",
    "    return TextBlob(text).sentiment.subjectivity\n",
    "# Função que analisa e obtém a polaridade\n",
    "def capture_polaridade_pt(text):\n",
    "    return  TextBlob(text).sentiment.polarity\n",
    "def translate_text(text):\n",
    "        return Translator().translate(unidecode(text)).text\n",
    "#Traduzindo\n",
    "if language!= 'en':\n",
    "    df_tweets['Tweets'] = df_tweets['Tweets'].apply(translate_text)\n",
    "else:\n",
    "    pass\n",
    "# Criar duas colunas de subjetividade e polaridade\n",
    "\n",
    "df_tweets['Subjetividade'] = df_tweets['Tweets'].apply(capture_polaridade_pt)\n",
    "df_tweets['Polaridade'] = df_tweets['Tweets'].apply(capture_subjetividade_pt)\n",
    "\n",
    "# Mostra um novo dataframe com as colunas subjetividade e polaridade\n",
    "df_tweets.tail()"
   ]
  },
  {
   "cell_type": "code",
   "execution_count": 62,
   "metadata": {},
   "outputs": [],
   "source": [
    "#-1 negativo\n",
    "#0 neutro\n",
    "#1 positivo\n",
    "def gerar_analise(score):\n",
    "    if score < 0:\n",
    "        return 'Negativo'\n",
    "    elif score == 0:\n",
    "        return 'Neutro'\n",
    "    else:\n",
    "        return 'Positivo'\n",
    "df_tweets['Analise'] = df_tweets['Polaridade'].apply(gerar_analise)"
   ]
  },
  {
   "cell_type": "code",
   "execution_count": 63,
   "metadata": {},
   "outputs": [
    {
     "name": "stdout",
     "output_type": "stream",
     "text": [
      "Printing positive tweets:\n",
      "\n",
      "1) If we learn the lessons of COVID-19, we can approach climate change more informed about the consequences of inaction, and more prepared to save lives and prevent the worst possible outcome. \n",
      "\n",
      "2) In his final words, John Lewis challenges all of us to continue to stand up for what we truly believe. “Together, you can redeem the soul of our nation.” \n",
      "\n",
      "\n",
      "\n",
      "3) The impacts of COVID-19 are driving worrying increases in malnutrition and health outcomes. However, there are clear actions that can be taken in both the near- and long-term. \n",
      "\n",
      "4) In these challenging times, we can’t lose sight of the importance of combatting climate change. I’m excited to hear about how companies like  are finding a way to play a role. \n",
      "\n",
      "5) It’s important that we continue to follow scientific data as we look for new tools to aid in the fight against coronavirus.  \n",
      "\n",
      "6) It’s hard to overstate how important finding a reliable, affordable, and easy-to-use diagnostic is for stopping Alzheimer’s. This is a big step towards that goal. \n",
      "\n",
      "7) Investments in digital technology that strengthen Africa’s food and health security will be critical to help the continent recover and thrive after the pandemic. \n",
      "\n",
      "8) : Three lessons that have been central to the COVID19 response in South Africa, Liberia, ; other countries:\n",
      "🔸 Screening…\n",
      "\n",
      "9) \"Our best strategy in the age-old fight against the germs is our collaborative, data-based effort to study the world around us and within us. Our best strategy is science.\"  explains how vaccines have dramatically improved humanity’s ability to fight infectious disease. \n",
      "\n",
      "10) : Not many of us get to live to see our own legacy play out in such a meaningful, remarkable way. John Lewis did:\n",
      "\n",
      "\n",
      "\n",
      "11) This is a great loss for America, and for everyone who believes in making the world a more just place. John Lewis not only saw that our country could be better--he never stopped working to make it that way. We need leaders like him more than ever. \n",
      "\n",
      "12) : Decision-makers can take steps right now to make sure the world recovers from this pandemic stronger, more prepared ; mor…\n",
      "\n",
      "13) Globally, a lack of medical oxygen–needed to treat pneumonia, malaria, and other diseases–leads to hundreds of thousands of deaths each year.  founded _Tele to address this often-overlooked challenge. \n",
      "\n",
      "14) This hero is playing a critical role in Kenya’s preparations to tackle COVID-19 by scaling up medical oxygen supplies that will be needed to keep the most critically ill patients alive. \n",
      "\n",
      "15) : “It’s that clarity of language about the VALUE of black life in America that distinguishes Juneteenth as emancipation…\n",
      "\n",
      "16) : Happy Juneteenth fam! My latest for the . Find joy today! The images from the article alone are giving me l…\n",
      "\n",
      "17) : “Only those feigning blindness fail to see the body of work we are, and the work of body we have done. \n",
      "\n",
      "Everything is what it is…\n",
      "\n",
      "18) : Juneteenth recognizes ; celebrates Black people’s freedom and the end of slavery in the US!  19 Jun 1865 Union Army Genera…\n",
      "\n",
      "19) : Proud to share my thoughts in ’s “injustice issue” on (and for) our beloved young people I call the TrayvonGene…\n",
      "\n",
      "20) _Nyongo: 1. This is Opal Lee, the force behind the movement to make Juneteenth a national holiday. Also known as Freedom Day, it…\n",
      "\n",
      "21) : Opal is 93 years old and a great interview. Take a listen \n",
      "\n",
      "22) I am committed to listening and learning more about systemic racism and what I can do with my actions and words to help create a more equal and just future. Black lives matter.\n",
      "\n",
      "23) …in policing, criminal justice, education, health care, housing, the workplace and all other areas of their lives.\n",
      "\n",
      "24) The horrifying killings of George Floyd, Ahmaud Arbery, Breonna Taylor and far too many other Black people—and the protests they sparked—are shining a light on the brutal injustices that Black people experience every day…\n",
      "\n",
      "25) : Today world leaders pledged to fully support ’s mission to give more children access to lifesaving vaccines and b…\n",
      "\n",
      "26) : The video of George Floyd’s brutal death broke my heart. I’ve watched the protests that followed and have felt overwhelme…\n",
      "\n",
      "27) I continue to be inspired by all of the volunteers (including many retired health care workers and teachers) on the front lines of the fight against coronavirus each day. \n",
      "\n",
      "28) Here are five books to read this summer if you want to learn more about pandemics or are looking for a distraction:  \n",
      "\n",
      "29) Melinda recommended that I read The Choice, and I’m glad she did. I think many people will find comfort right now from Dr. Edith Eva Eger's suggestions on how to handle difficult situations. \n",
      "\n",
      "30) Today is RedNoseDay. Their work has made an incredible impact to reduce child poverty in the US and around the world. \n",
      "\n",
      "31) The 1918 influenza outbreak is the closest comparison to what we’re living through right now. John Barry does a great job explaining the realities and lessons of that devastating pandemic. \n",
      "\n",
      "32) Most of my conversations these days are about COVID-19 and how we can stem the tide, but I’m also often asked about what I am reading and watching. Here are my 2020 summer book recommendations (plus a few other ideas for things to do at home). \n",
      "\n",
      "33)   Thank you for the conversation and partnership, . Combating the pandemic requires global collaboration. India’s role is key as the world works to minimize social and economic impact, and pave the way to vaccine, testing, and treatment access for all. \n",
      "\n",
      "34) I’m hopeful that this program will improve our understanding of the coronavirus outbreak in Seattle and provide valuable information about the virus for other communities around the world. \n",
      "\n",
      "35) : When will America be able to get back to work? \n",
      "\n",
      "The answer depends on whether workers have caregiving options they can r…\n",
      "\n",
      "36) Class of 2020, these are not easy times. But we will get through them. And with your leadership, the world will be stronger than before. \n",
      "\n",
      "37) There are over 100 different coronavirus vaccine candidates in the works. These candidates take a variety of approaches to protecting the body against COVID-19:  \n",
      "\n",
      "38) Humankind has never had a more urgent task than creating broad immunity for coronavirus. It’s going to require a global cooperative effort like the world has never seen. But I know we’ll get it done. There’s simply no alternative. \n",
      "\n",
      "39) : Developing a vaccine against COVID19 is among the first steps to a solution.\n",
      "\n",
      "Distributing the vaccine safely, effect…\n",
      "\n",
      "40) We don't yet have all the tools we need to stop the novel coronavirus and safely re-open the economy. But they are on the horizon. \n",
      "\n",
      "41) This is a great introduction to computer science concepts for students at all levels. I’m looking forward to joining today’s Code Break. \n",
      "\n",
      "42) Halting funding for the World Health Organization during a world health crisis is as dangerous as it sounds. Their work is slowing the spread of COVID-19 and if that work is stopped no other organization can replace them. The world needs  now more than ever.\n",
      "\n",
      "43) . does an amazing job capturing the heroism of the health care workers on the front lines of the coronavirus fight. \n",
      "\n",
      "44) On WorldHealthDay — and every day — I want to thank all of the health heroes for their sacrifices and for keeping us safe. \n",
      "\n",
      "45) I always enjoy chatting with , even though we had to sit a little bit further apart than usual this time. \n",
      "\n",
      "46) It’s encouraging to see the first projects begin from our effort to accelerate safe and effective drugs for COVID19. \n",
      "\n",
      "47) I’m excited to join the  Daily Homeroom today to talk about the incredible ways parents, teachers, and students are coming together to keep learning while schools are closed. \n",
      "\n",
      "48) If we make the right decisions now—informed by science, data and the experience of medical professionals—we can save lives and get the country back to work. You can read more about my thoughts on COVID19 on my blog. \n",
      "\n",
      "49) In the meantime, frontline health care workers are making heroic efforts to test and treat patients across the United States and the world. Here in my hometown, Public Health Seattle ; King County () is doing incredible work that we should all be very proud of.\n",
      "\n",
      "50) All the work that rich countries are doing now to develop vaccines will save lives in developing countries too. Without a vaccine, those countries are at even greater risk than wealthy ones, because it’s even harder for them to do physical distancing and shutdowns.\n",
      "\n",
      "51) If everything goes well, there might be an effective vaccine in less than 18 months—the fastest a vaccine has ever been developed. That will depend on decisions we make today, including the federal government investing in building up manufacturing capacity.\n",
      "\n",
      "52) Work is going full speed on potential treatments, and vaccines. But people should know that it will take time to prove they are safe and effective and to start making them.\n",
      "\n",
      "53) There’s been some progress on more efficient testing methods, such as the self-swab developed by the Seattle Coronavirus Assessment Network. I hope this and other innovations in testing are scaled up across the country soon. \n",
      "\n",
      "54) The federal government needs to step up on testing: far more tests should be made available, and we should aggregate the results so we can quickly identify potential volunteers for clinical trials and know with confidence when it’s time to return to normal.\n",
      "\n",
      "55) Extreme physical distancing measures will make a big difference in the U.S., but we need a consistent nationwide approach. Until the case numbers start to go down across America—which could take 10 weeks or more—no one can continue business as usual or relax the shutdown.\n",
      "\n",
      "56) There’s no question the United States missed the opportunity to get ahead of the novel coronavirus. But the window for making important decisions hasn’t closed. The choices we and our leaders make now will have an enormous impact. \n",
      "\n",
      "57) I’m inspired by the generosity of everyone who has contributed to this effort to help keep kids learning at home. Thank you to  and especially the educators who are doing amazing things for their students every day. \n",
      "\n",
      "58) One of the questions I am most often asked about the COVID19 pandemic is how, and when, it will end. This article by 209 does a really good job of outlining the steps we need to take. \n",
      "\n",
      "59) This impressive new tool from _UW will help hospitals, policymakers, and the general public better understand and prepare for the COVID19 response in the U.S. \n",
      "\n",
      "60) This is encouraging news, but we still have a lot of work to do. Extreme physical distancing and testing are the best tools we have right now to slow the spread of novel coronavirus. \n",
      "\n",
      "61) There are few people I’ve learned more from over the years–especially about viruses–than Peter Piot. This Q;A with him is an excellent, easy-to-understand primer on COVID19:  \n",
      "\n",
      "62) I’ve been impressed by governors across the country including , , , , , and the many others who are guiding their communities through this challenge and providing a model for us all to follow.\n",
      "\n",
      "63) Thanks to Norway and Prime Minister _solberg for their ongoing leadership in global health and important investments in vaccines. \n",
      "\n",
      "64) The international response will require funding for ’s development of a COVID-19 vaccine and for . Thanks to  and the UK for this vital commitment. \n",
      "\n",
      "65) Lots of people in Seattle have asked how they can help those impacted by COVID19 locally.  has done a great job identifying organizations who are already on the ground and deploying resources quickly to help our friends and neighbors:  \n",
      "\n",
      "66) Thanks for your leadership, . This is an inspiring contribution and will make a big difference for families. \n",
      "\n",
      "67) Teachers are doing incredible work to keep kids learning while at home. To help get supplies to those most in need, Melinda and I will double your impact, up to $1 million total, when you give to  coronavirus relief effort today and tomorrow. \n",
      "\n",
      "68) I’m connecting live with  and  to talk about what our healthcare systems need to tackle the COVID19 pandemic and prepare for future epidemics. \n",
      "\n",
      "69) Thanks  for joining me yesterday to discuss the COVID19 pandemic and what we can do to prevent the next one. Here's a recap of the conversation:  \n",
      "\n",
      "70) I know many parents are looking for resources and ideas to help their kids continue learning while home.  has created daily schedules with interactive content--exercises, videos and articles--for students in every grade. \n",
      "\n",
      "71) We don’t yet have all the tools we need to fight COVID-19. This is an important step toward having treatments, while we also explore vaccines and diagnostics. Thanks to  and  for launching this effort with us. \n",
      "\n",
      "72) COVID-19 could be a once-in-a-century pandemic, but the good news is that there are steps we can take now to slow its impact and help us respond more effectively when the next epidemic arrives. COVID19 \n",
      "\n",
      "73) 1 in 4 children under five in South Africa are stunted. The  Campaign is empowering new and pregnant moms to keep their children healthy. Here’s why I’m optimistic that they can make an impact:  \n",
      "\n",
      "74) Melinda and I have met many stunted children in our travels. It’s heartbreaking and utterly preventable. Dr.  is leading an incredible effort to eliminate child stunting from South Africa over the next decade. \n",
      "\n",
      "75) Diseases that cause dementia are only diagnosed after symptoms start. To effectively treat these diseases, we need to be able to diagnose them decades earlier when they first take hold in the brain. \n",
      "\n",
      "76) We’re hopeful that our foundation’s work with Networks for School Improvement will help increase the number of Black, Latinx, and low-income students who graduate from high school and pursue postsecondary opportunities. Here’s why that’s so important:  \n",
      "\n",
      "77) It was a magical night. I'm very happy to support your foundation's incredible work. \n",
      "\n",
      "78) Vaccines are a miracle. But how exactly do they work? I explain the science behind vaccines and why our foundation’s investment in them is one of the best we’ve ever made:  \n",
      "\n",
      "79) Science is giving us the opportunity to improve lives around the world faster than ever before. Today I was honored to give a speech on this subject at the  annual meeting. AAASmtg \n",
      "\n",
      "80) This is an incredible story about the power of vaccines. 13 million people are alive today thanks to . Here’s how:  \n",
      "\n",
      "81) The only way we'll achieve net-zero carbon emissions is if we innovate, deploy, and invest across all sectors. It's encouraging to see companies working to get our planet one step closer. Congratulations to all the winners of the BreakthroughCanada initiative. \n",
      "\n",
      "82) When we first started our foundation, Melinda and I were optimistic about the power of innovation to drive progress. Twenty years later, we’re just as optimistic, and we’re still swinging for the fences:  \n",
      "\n",
      "83) In our new annual letter,  and I write about why we think the risks we’ve taken in the first two decades of our foundation have set us up for future progress. \n",
      "\n",
      "84) : The world must work together to slow the coronavirus outbreak, protect the most vulnerable, ; develop tools to control this ep…\n",
      "\n",
      "85)    Roger’s foundation partners with local NGOs in six countries in southern Africa to improve early learning and basic education. It’s an impressive organization, and I encourage you to consider supporting its work: \n",
      "\n",
      "86) I’m excited to team up with  again for the Match in Africa Friday in Cape Town. Playing alongside Roger is always a thrill, and I can’t wait to face off against  and . \n",
      "\n",
      "87) As we conclude our foundation’s second decade of work in global health and education, I have never been more optimistic about the opportunity to improve life for the world’s poorest. I look forward to partnering with you on the work ahead. \n",
      "\n"
     ]
    }
   ],
   "source": [
    "# Printando apenas os tweets positivos \n",
    "print('Printing positive tweets:\\n')\n",
    "j=1\n",
    "sortedDF = df_tweets.sort_values(by=['Polaridade']) #ordenando os tweets\n",
    "for i in range(0, sortedDF.shape[0] ):\n",
    "    if( sortedDF['Analise'][i] == 'Positivo'):\n",
    "        print(str(j) + ') '+ sortedDF['Tweets'][i])\n",
    "        print()\n",
    "        j= j+1"
   ]
  },
  {
   "cell_type": "code",
   "execution_count": 64,
   "metadata": {},
   "outputs": [
    {
     "name": "stdout",
     "output_type": "stream",
     "text": [
      "Printing negative tweets:\n",
      "\n"
     ]
    }
   ],
   "source": [
    "# Printando apenas os tweets negativos \n",
    "print('Printing negative tweets:\\n')\n",
    "j=1\n",
    "sortedDF = df_tweets.sort_values(by=['Polaridade'],ascending=False) #ordenando os tweets\n",
    "for i in range(0, sortedDF.shape[0] ):\n",
    "    if( sortedDF['Analise'][i] == 'Negativo'):\n",
    "        print(str(j) + ') '+sortedDF['Tweets'][i])\n",
    "        print()\n",
    "        j=j+1"
   ]
  },
  {
   "cell_type": "code",
   "execution_count": 65,
   "metadata": {},
   "outputs": [
    {
     "data": {
      "image/png": "[encoded data removed]",
      "text/plain": [
       "<Figure size 576x432 with 1 Axes>"
      ]
     },
     "metadata": {},
     "output_type": "display_data"
    }
   ],
   "source": [
    "# Plotting \n",
    "plt.figure(figsize=(8,6)) \n",
    "for i in range(0, df_tweets.shape[0]):\n",
    "    plt.scatter(df_tweets[\"Polaridade\"][i], df_tweets[\"Subjetividade\"][i], color='darkblue') \n",
    "plt.title('Análise de sentimento') \n",
    "plt.xlabel('Polaridade') \n",
    "plt.ylabel('Subjetividade') \n",
    "plt.show()"
   ]
  },
  {
   "cell_type": "code",
   "execution_count": 66,
   "metadata": {},
   "outputs": [
    {
     "data": {
      "text/plain": [
       "87.0"
      ]
     },
     "execution_count": 66,
     "metadata": {},
     "output_type": "execute_result"
    }
   ],
   "source": [
    "#% de tweets positivos\n",
    "ptweets = df_tweets[df_tweets.Analise == 'Positivo']\n",
    "ptweets = ptweets['Tweets']\n",
    "ptweets\n",
    "\n",
    "round( (ptweets.shape[0] / df_tweets.shape[0]) * 100 , 1)"
   ]
  },
  {
   "cell_type": "code",
   "execution_count": 67,
   "metadata": {},
   "outputs": [
    {
     "data": {
      "text/plain": [
       "0.0"
      ]
     },
     "execution_count": 67,
     "metadata": {},
     "output_type": "execute_result"
    }
   ],
   "source": [
    "#% de tweets negativos\n",
    "ntweets = df_tweets[df_tweets.Analise == 'Negativo']\n",
    "ntweets = ntweets['Tweets']\n",
    "ntweets\n",
    "\n",
    "round( (ntweets.shape[0] / df_tweets.shape[0]) * 100, 1)"
   ]
  },
  {
   "cell_type": "code",
   "execution_count": 68,
   "metadata": {},
   "outputs": [],
   "source": [
    "df = pd.DataFrame(df_tweets['Analise'].value_counts())"
   ]
  },
  {
   "cell_type": "code",
   "execution_count": 69,
   "metadata": {
    "scrolled": false
   },
   "outputs": [
    {
     "data": {
      "text/plain": [
       "Text(0, 0.5, 'Sentimento')"
      ]
     },
     "execution_count": 69,
     "metadata": {},
     "output_type": "execute_result"
    },
    {
     "data": {
      "image/png": "[encoded data removed]",
      "text/plain": [
       "<Figure size 432x288 with 1 Axes>"
      ]
     },
     "metadata": {},
     "output_type": "display_data"
    }
   ],
   "source": [
    "plt.figure()\n",
    "ax = sns.barplot(x=df['Analise'], y=df.index, data=df_tweets)\n",
    "ax.set_xlabel('Quantidade de tweets')\n",
    "ax.set_ylabel('Sentimento')"
   ]
  },
  {
   "cell_type": "code",
   "execution_count": 70,
   "metadata": {},
   "outputs": [
    {
     "data": {
      "image/png": "[encoded data removed]",
      "text/plain": [
       "<Figure size 432x288 with 1 Axes>"
      ]
     },
     "metadata": {},
     "output_type": "display_data"
    }
   ],
   "source": [
    "ax = sns.barplot(x=df.index, y=df['Analise'],data=df_tweets,label='Quantidade de Tweets')\n",
    "ax.set_ylabel('Quantidade de tweets')\n",
    "ax.set_xlabel('Sentimento');"
   ]
  },
  {
   "cell_type": "code",
   "execution_count": null,
   "metadata": {},
   "outputs": [],
   "source": []
  }
 ],
 "metadata": {
  "kernelspec": {
   "display_name": "Python 3",
   "language": "python",
   "name": "python3"
  },
  "language_info": {
   "codemirror_mode": {
    "name": "ipython",
    "version": 3
   },
   "file_extension": ".py",
   "mimetype": "text/x-python",
   "name": "python",
   "nbconvert_exporter": "python",
   "pygments_lexer": "ipython3",
   "version": "3.7.6"
  }
 },
 "nbformat": 4,
 "nbformat_minor": 2
}
