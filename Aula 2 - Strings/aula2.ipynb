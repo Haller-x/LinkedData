{
 "cells": [
  {
   "cell_type": "markdown",
   "metadata": {},
   "source": [
    "# Strings"
   ]
  },
  {
   "cell_type": "code",
   "execution_count": 1,
   "metadata": {
    "tags": []
   },
   "outputs": [
    {
     "name": "stdout",
     "output_type": "stream",
     "text": [
      "linked data\n"
     ]
    }
   ],
   "source": [
    "a = \"   linked data    \"\n",
    "print(a.strip()) #remove qualquer espaço no começo ou no fim"
   ]
  },
  {
   "cell_type": "code",
   "execution_count": 2,
   "metadata": {
    "tags": []
   },
   "outputs": [
    {
     "name": "stdout",
     "output_type": "stream",
     "text": [
      "linked data\n"
     ]
    }
   ],
   "source": [
    "a = \"Linked Data\"\n",
    "print(a.lower()) #transforma tudo em lowercasea = \"linked data\""
   ]
  },
  {
   "cell_type": "code",
   "execution_count": 3,
   "metadata": {
    "tags": []
   },
   "outputs": [
    {
     "name": "stdout",
     "output_type": "stream",
     "text": [
      "LINKED DATA\n"
     ]
    }
   ],
   "source": [
    "print(a.upper()) #transforma tudo em upper caseprint(a.upper()) #transforma tudo em upper case"
   ]
  },
  {
   "cell_type": "code",
   "execution_count": 4,
   "metadata": {
    "tags": []
   },
   "outputs": [
    {
     "name": "stdout",
     "output_type": "stream",
     "text": [
      "Linked Data\n"
     ]
    }
   ],
   "source": [
    "print(a.replace(\"linked\",\"golden\"))#altera as correspondências (linked) por goldenprint(a.replace(\"linked\",\"golden\"))#altera as correspondências (linked) por golden"
   ]
  },
  {
   "cell_type": "markdown",
   "metadata": {},
   "source": [
    "Note que o conteúdo da variável 'a' não muda se não reatribuirmos o valor!"
   ]
  },
  {
   "cell_type": "code",
   "execution_count": 5,
   "metadata": {
    "tags": []
   },
   "outputs": [
    {
     "name": "stdout",
     "output_type": "stream",
     "text": [
      "['linked', 'data']\n",
      "linked-data\n"
     ]
    }
   ],
   "source": [
    "a = \"linked-data\"\n",
    "print(a.split(\"-\"))#Separa os itens da string usando o separador definido\n",
    "print(a)"
   ]
  },
  {
   "cell_type": "code",
   "execution_count": 6,
   "metadata": {
    "tags": []
   },
   "outputs": [
    {
     "name": "stdout",
     "output_type": "stream",
     "text": [
      "Linked Data\n"
     ]
    }
   ],
   "source": [
    "#Concatenando!\n",
    "a = 'Linked'\n",
    "b = ' Data'\n",
    "c = a + b\n",
    "print(c)"
   ]
  },
  {
   "cell_type": "code",
   "execution_count": 7,
   "metadata": {
    "tags": []
   },
   "outputs": [
    {
     "name": "stdout",
     "output_type": "stream",
     "text": [
      "Ela se chama Maria e tem 19 anos\n"
     ]
    }
   ],
   "source": [
    "nome = 'Maria'\n",
    "idade = 19\n",
    "print('Ela se chama {} e tem {} anos'.format(nome,idade))"
   ]
  },
  {
   "cell_type": "code",
   "execution_count": 8,
   "metadata": {
    "tags": []
   },
   "outputs": [
    {
     "name": "stdout",
     "output_type": "stream",
     "text": [
      "Ele se chama Pedro e tem 22 anos\n"
     ]
    }
   ],
   "source": [
    "nome = 'Pedro'\n",
    "idade = 22\n",
    "print('Ele se chama {z} e tem {k} anos'.format(z=nome,k=idade))\n"
   ]
  },
  {
   "cell_type": "code",
   "execution_count": 10,
   "metadata": {
    "tags": []
   },
   "outputs": [
    {
     "name": "stdout",
     "output_type": "stream",
     "text": [
      "48\n"
     ]
    }
   ],
   "source": [
    "num = '8'\n",
    "repetir = 6\n",
    "#print(num * repetir)\n",
    "\n",
    "print(int(num) * repetir)\n"
   ]
  },
  {
   "cell_type": "code",
   "execution_count": 11,
   "metadata": {},
   "outputs": [],
   "source": [
    "numeros = '1234567890'\n",
    "letras = 'abcde'\n",
    "espaco = '      '\n",
    "letras_numeros = ''"
   ]
  },
  {
   "cell_type": "code",
   "execution_count": 12,
   "metadata": {},
   "outputs": [
    {
     "data": {
      "text/plain": [
       "False"
      ]
     },
     "execution_count": 12,
     "metadata": {},
     "output_type": "execute_result"
    }
   ],
   "source": [
    "letras_numeros.isalnum()"
   ]
  },
  {
   "cell_type": "code",
   "execution_count": 13,
   "metadata": {},
   "outputs": [
    {
     "data": {
      "text/plain": [
       "True"
      ]
     },
     "execution_count": 13,
     "metadata": {},
     "output_type": "execute_result"
    }
   ],
   "source": [
    "letras.isalpha()"
   ]
  },
  {
   "cell_type": "code",
   "execution_count": 14,
   "metadata": {},
   "outputs": [
    {
     "data": {
      "text/plain": [
       "False"
      ]
     },
     "execution_count": 14,
     "metadata": {},
     "output_type": "execute_result"
    }
   ],
   "source": [
    "letras.isdecimal()"
   ]
  },
  {
   "cell_type": "code",
   "execution_count": 15,
   "metadata": {},
   "outputs": [
    {
     "data": {
      "text/plain": [
       "True"
      ]
     },
     "execution_count": 15,
     "metadata": {},
     "output_type": "execute_result"
    }
   ],
   "source": [
    "letras.islower()"
   ]
  },
  {
   "cell_type": "code",
   "execution_count": 16,
   "metadata": {},
   "outputs": [
    {
     "data": {
      "text/plain": [
       "False"
      ]
     },
     "execution_count": 16,
     "metadata": {},
     "output_type": "execute_result"
    }
   ],
   "source": [
    "letras.isupper()"
   ]
  },
  {
   "cell_type": "code",
   "execution_count": 17,
   "metadata": {},
   "outputs": [
    {
     "data": {
      "text/plain": [
       "True"
      ]
     },
     "execution_count": 17,
     "metadata": {},
     "output_type": "execute_result"
    }
   ],
   "source": [
    "espaco.isspace()"
   ]
  },
  {
   "cell_type": "code",
   "execution_count": 18,
   "metadata": {},
   "outputs": [
    {
     "data": {
      "text/plain": [
       "1"
      ]
     },
     "execution_count": 18,
     "metadata": {},
     "output_type": "execute_result"
    }
   ],
   "source": [
    "letras.count('a')"
   ]
  },
  {
   "cell_type": "code",
   "execution_count": 19,
   "metadata": {},
   "outputs": [
    {
     "name": "stdout",
     "output_type": "stream",
     "text": [
      "\n",
      "Palavras reservadas (não podem ser usadas como variáveis)\n",
      "    and\tas\tassert\tbreak\tclass\tcontinue\n",
      "    def\tdel\telif\telse\texcept\texec\n",
      "    finally\tfor\tfrom\tglobal\tif\timport\n",
      "    in\tis\tlambda\tnonlocal\tnot\tor\n",
      "    pass\traise\treturn\ttry\twhile\twith\n",
      "    yield\tTrue\tFalse\tNone\n",
      "\n"
     ]
    }
   ],
   "source": [
    "'Palavras reservadas (não podem ser usadas como variáveis):'\n",
    "print('''\n",
    "Palavras reservadas (não podem ser usadas como variáveis)\n",
    "    and\tas\tassert\tbreak\tclass\tcontinue\n",
    "    def\tdel\telif\telse\texcept\texec\n",
    "    finally\tfor\tfrom\tglobal\tif\timport\n",
    "    in\tis\tlambda\tnonlocal\tnot\tor\n",
    "    pass\traise\treturn\ttry\twhile\twith\n",
    "    yield\tTrue\tFalse\tNone\n",
    "''')\n"
   ]
  },
  {
   "cell_type": "markdown",
   "metadata": {},
   "source": [
    "Variáveis também não podem começar com números. Ex: \n",
    "    - 3letras = 'abc'"
   ]
  }
 ],
 "metadata": {
  "kernelspec": {
   "display_name": "Python 3",
   "language": "python",
   "name": "python3"
  },
  "language_info": {
   "codemirror_mode": {
    "name": "ipython",
    "version": 3
   },
   "file_extension": ".py",
   "mimetype": "text/x-python",
   "name": "python",
   "nbconvert_exporter": "python",
   "pygments_lexer": "ipython3",
   "version": "3.7.7"
  }
 },
 "nbformat": 4,
 "nbformat_minor": 2
}
